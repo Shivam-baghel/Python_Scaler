{
 "cells": [
  {
   "cell_type": "code",
   "execution_count": 1,
   "metadata": {},
   "outputs": [
    {
     "name": "stdout",
     "output_type": "stream",
     "text": [
      "hello\n"
     ]
    }
   ],
   "source": [
    "print(\"hello\")"
   ]
  },
  {
   "cell_type": "code",
   "execution_count": 5,
   "metadata": {},
   "outputs": [
    {
     "name": "stdout",
     "output_type": "stream",
     "text": [
      "8\n"
     ]
    }
   ],
   "source": [
    "def ques(arr:list,k):\n",
    "    r = len(arr)\n",
    "    if r == 1:\n",
    "        if arr[0]==1:\n",
    "            return 1\n",
    "        else:\n",
    "            return 0\n",
    "\n",
    "    l = r-(k-1)-1\n",
    "    c=0\n",
    "    ans=0\n",
    "    for i in range(l,r):\n",
    "        if arr[i]==1:\n",
    "            c = c+1\n",
    "    \n",
    "    for j in range(c,0,-1):\n",
    "        ans = ans+j \n",
    "    \n",
    "    for k in range(l):\n",
    "        if arr[k]==1:\n",
    "            ans = ans+ 1\n",
    "    \n",
    "    return ans\n",
    "\n",
    "a = [1,1,1,0,1,1]\n",
    "k=4\n",
    "print(ques(a,k))"
   ]
  }
 ],
 "metadata": {
  "kernelspec": {
   "display_name": "Python 3.10.3 64-bit",
   "language": "python",
   "name": "python3"
  },
  "language_info": {
   "codemirror_mode": {
    "name": "ipython",
    "version": 3
   },
   "file_extension": ".py",
   "mimetype": "text/x-python",
   "name": "python",
   "nbconvert_exporter": "python",
   "pygments_lexer": "ipython3",
   "version": "3.10.3"
  },
  "orig_nbformat": 4,
  "vscode": {
   "interpreter": {
    "hash": "26de051ba29f2982a8de78e945f0abaf191376122a1563185a90213a26c5da77"
   }
  }
 },
 "nbformat": 4,
 "nbformat_minor": 2
}
